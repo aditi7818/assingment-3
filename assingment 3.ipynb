{
 "cells": [
  {
   "cell_type": "code",
   "execution_count": null,
   "id": "eb14075a-986c-4614-8018-f094d0365fd3",
   "metadata": {},
   "outputs": [],
   "source": [
    "Question: create a python program to sort the given list of tuples based on integer value using a lambda function.\n",
    "[('Sachin Tendulkar', 34357), ('Ricky Pointing',27483),('jack kallis',25534), ('virat kholi',24936)\n",
    " \n",
    "Answer: \n",
    "players_run = [('sachin Tendulkar',34357), ('Ricky Pointing',27483), ('Jack Kallis',25534), ('Virat Kholi',24936)]\n",
    "print(\"original list of tuples:\")\n",
    "print(player_run)\n",
    "players_run.sort(key =lambda x: x[1])\n",
    "print(\"\\nsorting the list of tuples:\")\n",
    "print(players_run)"
   ]
  },
  {
   "cell_type": "code",
   "execution_count": null,
   "id": "104166fe-5013-49e6-8407-cc4a5634d8ee",
   "metadata": {},
   "outputs": [],
   "source": [
    "Question: Write a python program to find the squares of all the numbers in the given list of integers using lambda and map functions.\n",
    "[1,2,3,4,5,6,7,8,9,10]\n",
    "\n",
    "Answer: Square of all the numbers using lambda and map functions:\n",
    "l=[1,2,3,4,5,6,7,8,9,10]\n",
    "list(map(lambda n: n*2, [1,2,3,4,5,6,7,8,9,10]))\n"
   ]
  },
  {
   "cell_type": "code",
   "execution_count": null,
   "id": "aa1bf4fd-a031-42ae-8057-53bcdebca54c",
   "metadata": {},
   "outputs": [],
   "source": [
    "Question: Write a python program to convert the given list of integers into a tuples of string. use map and lambda function\n",
    "Given String[1,2,3,4,5,6,7,8,9,10]\n",
    "Expected output:('1','2','3','4','5','6','7','8','9','10')\n",
    "\n",
    "Answer: \n",
    "number_list= [1,2,3,4,5,6,7,8,9,10]\n",
    "result_list= list(map(lambda x: str(x), number_list))\n",
    "print(\"List of strings\")\n",
    "print(result_list)"
   ]
  },
  {
   "cell_type": "code",
   "execution_count": null,
   "id": "51322947-f705-48ce-89fd-b1592facd5ef",
   "metadata": {},
   "outputs": [],
   "source": [
    "Question: Write a python program using reduce function to compute the product of a list contaning numbers from 1 to 25.\n",
    "Answer:\n",
    "from functools import reduce\n",
    "nums= [1,2,3,4,5,6,7,8,9,10,11,12,13,14,15,16,17,18,19,20,21,22,23,24,25]\n",
    "print(\"original list numbers\")\n",
    "print(nums)\n",
    "nums_product = reduce((lambda x,y: x*y), nums)\n",
    "print(\"\\nproduct of the said numbers:\", nums_product)"
   ]
  },
  {
   "cell_type": "code",
   "execution_count": null,
   "id": "afb5982a-18ec-42df-94c4-df3a006798f4",
   "metadata": {},
   "outputs": [],
   "source": [
    "Question: Write a python program to filter the numbers in a given list that are divisible by 2 and 3 using the filter function.\n",
    "[2,3,6,9,27,60,90,120,55,46]\n",
    "Answer:\n",
    "def find_evenodd(num):\n",
    "    return num % 2==0 and num % 3==0\n",
    "numbers = [2,3,6,9,27,60,120,55,46]\n",
    "evenodd_list = list(filter(find_evenodd, numbers))\n",
    "print(evenodd_list)"
   ]
  },
  {
   "cell_type": "code",
   "execution_count": null,
   "id": "be43cd64-96a4-4576-964d-9f85ce7e21db",
   "metadata": {},
   "outputs": [],
   "source": [
    "Question: Write a python program to find palindromes in the given list of strings using lambda and filter function.\n",
    "['python','php','aba','radar','level']\n",
    "Answer: \n",
    "texts= ['python','php','radar','aba','level']\n",
    "result= list(filter(lambda x: (x==\"\".join(reversed(x))), texts))\n"
   ]
  },
  {
   "cell_type": "code",
   "execution_count": 9,
   "id": "def51db6-8164-4819-8032-8054ed919771",
   "metadata": {},
   "outputs": [
    {
     "name": "stdout",
     "output_type": "stream",
     "text": [
      "\n",
      "List of Palindromes:\n",
      "['php', 'aba', 'radar', 'level']\n"
     ]
    }
   ],
   "source": [
    "texts = [\"php\", \"python\", \"aba\",\"radar\",\"level\"]\n",
    "result= list(filter(lambda x: (x ==\"\".join(reversed(x))), texts))\n",
    "print(\"\\nList of Palindromes:\")\n",
    "print(result)"
   ]
  },
  {
   "cell_type": "code",
   "execution_count": null,
   "id": "6cbc611d-9c3f-45ca-90c9-afb6728008a1",
   "metadata": {},
   "outputs": [],
   "source": []
  }
 ],
 "metadata": {
  "kernelspec": {
   "display_name": "Python 3 (ipykernel)",
   "language": "python",
   "name": "python3"
  },
  "language_info": {
   "codemirror_mode": {
    "name": "ipython",
    "version": 3
   },
   "file_extension": ".py",
   "mimetype": "text/x-python",
   "name": "python",
   "nbconvert_exporter": "python",
   "pygments_lexer": "ipython3",
   "version": "3.10.8"
  }
 },
 "nbformat": 4,
 "nbformat_minor": 5
}
